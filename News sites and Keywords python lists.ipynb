{
 "cells": [
  {
   "cell_type": "code",
   "execution_count": null,
   "id": "c3684979",
   "metadata": {},
   "outputs": [],
   "source": [
    "# varibles for news sites and keywords for data collection"
   ]
  },
  {
   "cell_type": "code",
   "execution_count": 1,
   "id": "14f776e3",
   "metadata": {},
   "outputs": [],
   "source": [
    "import pandas as pd"
   ]
  },
  {
   "cell_type": "code",
   "execution_count": 7,
   "id": "65ee5f45",
   "metadata": {},
   "outputs": [
    {
     "data": {
      "text/plain": [
       "['palestine',\n",
       " 'student',\n",
       " 'university',\n",
       " 'college',\n",
       " 'encampment',\n",
       " 'divest',\n",
       " 'anti',\n",
       " 'pro',\n",
       " 'israel',\n",
       " 'demonstrator',\n",
       " 'activist',\n",
       " 'peaceful',\n",
       " 'against',\n",
       " 'unite',\n",
       " 'solidarity',\n",
       " 'sjp',\n",
       " 'divestment',\n",
       " 'campus',\n",
       " 'arrested ',\n",
       " 'detained',\n",
       " 'sit in',\n",
       " 'gaza']"
      ]
     },
     "execution_count": 7,
     "metadata": {},
     "output_type": "execute_result"
    }
   ],
   "source": [
    "pd.read_excel('news and keywords.xlsx')['Keywords (v2)'].dropna().to_list()"
   ]
  },
  {
   "cell_type": "code",
   "execution_count": null,
   "id": "4e6ba889",
   "metadata": {},
   "outputs": [],
   "source": [
    "news_sites = ['cnn', 'associated press', 'ap', 'wsj', 'wall street journal',\n",
    "    'ft', 'financial times', 'time', 'msnbc', 'nbc',\n",
    "    'abc', 'abc news', 'cbs', 'cbs news', 'fox news',\n",
    "    'fox', 'nyt', 'ny times', 'new york times', 'usa today',\n",
    "    'vice', 'vice news', 'politico', 'npr', 'buzzfeed',\n",
    "    'insider', 'bloomberg', 'business insider', 'reuters', 'huffington post',\n",
    "    'forbes', 'msn', 'nypost', 'ny post', 'new york post',\n",
    "    'the hill', 'vox', 'univision', 'al jazeera', 'rt',\n",
    "    'bbc', 'sky news', 'cnbc', 'wp', 'washington post']"
   ]
  },
  {
   "cell_type": "code",
   "execution_count": null,
   "id": "3a55500b",
   "metadata": {},
   "outputs": [],
   "source": [
    "keywords = ['protesters', 'protest', 'riot', 'disturbance', 'march', \n",
    "    'marching', 'solidarity', 'stand', 'standing', 'violent', \n",
    "    'violence', 'riot police', 'police', 'arrest', 'arrests', \n",
    "    'anti', 'pro', 'disturbing', 'mobs', 'mob', \n",
    "    'stuck', 'end', 'justice', 'vigilantes', 'justify', \n",
    "    'injustice', 'liberal', 'conservative', 'liberals', 'conservatives', \n",
    "    'activist', 'activists', 'glorify', 'demonstrators', 'movement', \n",
    "    'cause', 'punishment', 'deploy', 'quell', 'crackdown', \n",
    "    'crackdowns', 'left', 'right', 'republican', 'democrat', \n",
    "    'strike', 'marginalized', 'rights', 'civil', 'non violent', \n",
    "    'peaceful', 'social', 'awareness', 'aware', 'organization', \n",
    "    'organize', 'labor', 'union', 'unionize', 'student', \n",
    "    'walkout', 'walk out', 'equal', 'equality', 'fair', \n",
    "    'fairness', 'united', 'unite', 'against', 'peace']"
   ]
  }
 ],
 "metadata": {
  "kernelspec": {
   "display_name": "Python 3 (ipykernel)",
   "language": "python",
   "name": "python3"
  },
  "language_info": {
   "codemirror_mode": {
    "name": "ipython",
    "version": 3
   },
   "file_extension": ".py",
   "mimetype": "text/x-python",
   "name": "python",
   "nbconvert_exporter": "python",
   "pygments_lexer": "ipython3",
   "version": "3.10.12"
  }
 },
 "nbformat": 4,
 "nbformat_minor": 5
}
